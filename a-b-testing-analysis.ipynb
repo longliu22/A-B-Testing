{
 "cells": [
  {
   "cell_type": "markdown",
   "id": "cfda3954",
   "metadata": {
    "papermill": {
     "duration": 0.007753,
     "end_time": "2022-10-25T19:27:06.212032",
     "exception": false,
     "start_time": "2022-10-25T19:27:06.204279",
     "status": "completed"
    },
    "tags": []
   },
   "source": [
    "# Pre-Test | Design the Test"
   ]
  },
  {
   "cell_type": "markdown",
   "id": "50236642",
   "metadata": {
    "papermill": {
     "duration": 0.006276,
     "end_time": "2022-10-25T19:27:06.225125",
     "exception": false,
     "start_time": "2022-10-25T19:27:06.218849",
     "status": "completed"
    },
    "tags": []
   },
   "source": [
    "## Requirements\n",
    "\n",
    "- Independent Variable [landing page --> this is the variable we are testing]\n",
    "- Dependent Variable [# converted --> this is used to calculate the conversion rate which is our KPI metric]\n",
    "- Significance [alpha 0.05 | confidence level 95T]\n",
    "- Sample Size [To be determined based on Power Analysis]\n",
    "\n",
    "\n",
    "- KPI Metrics [13% --> 15%, 2 percent increment for conversion rate]\n",
    "- Hypothesis [2 tailed test]\n",
    "- H0: new_page have no significant effect on conversion rate\n",
    "- H1: new_page has significant effect on conversion rate\n",
    "\n",
    "## Power Analysis - To determine Sample Size\n",
    "- Alpha = 0.05\n",
    "- Power Ratio[1-beta] = 0.8 \n",
    "- Determine Effective Size\n",
    "- Determine Sample Size"
   ]
  },
  {
   "cell_type": "code",
   "execution_count": 1,
   "id": "59835942",
   "metadata": {
    "execution": {
     "iopub.execute_input": "2022-10-25T19:27:06.242811Z",
     "iopub.status.busy": "2022-10-25T19:27:06.242004Z",
     "iopub.status.idle": "2022-10-25T19:27:08.165956Z",
     "shell.execute_reply": "2022-10-25T19:27:08.164715Z"
    },
    "papermill": {
     "duration": 1.935946,
     "end_time": "2022-10-25T19:27:08.169585",
     "exception": false,
     "start_time": "2022-10-25T19:27:06.233639",
     "status": "completed"
    },
    "tags": []
   },
   "outputs": [
    {
     "name": "stdout",
     "output_type": "stream",
     "text": [
      "-0.0576728617308947\n"
     ]
    }
   ],
   "source": [
    "# Determine effect size based on KPI Metrics\n",
    "import statsmodels.api as sm\n",
    "eff_size = sm.stats.proportion_effectsize(0.13, 0.15)\n",
    "print(eff_size)"
   ]
  },
  {
   "cell_type": "code",
   "execution_count": 2,
   "id": "9f53a7e6",
   "metadata": {
    "execution": {
     "iopub.execute_input": "2022-10-25T19:27:08.185512Z",
     "iopub.status.busy": "2022-10-25T19:27:08.185108Z",
     "iopub.status.idle": "2022-10-25T19:27:08.200450Z",
     "shell.execute_reply": "2022-10-25T19:27:08.198987Z"
    },
    "papermill": {
     "duration": 0.026024,
     "end_time": "2022-10-25T19:27:08.203159",
     "exception": false,
     "start_time": "2022-10-25T19:27:08.177135",
     "status": "completed"
    },
    "tags": []
   },
   "outputs": [
    {
     "name": "stdout",
     "output_type": "stream",
     "text": [
      "4720\n"
     ]
    }
   ],
   "source": [
    "# Calculate Sample Size using Power Analysis\n",
    "power_ratio = 0.8\n",
    "sample_size = sm.stats.NormalIndPower().solve_power(eff_size, alpha = 0.05, power = power_ratio)\n",
    "\n",
    "import math\n",
    "sample_size = math.ceil(sample_size)\n",
    "print(sample_size)"
   ]
  },
  {
   "cell_type": "code",
   "execution_count": 3,
   "id": "76d8d24b",
   "metadata": {
    "execution": {
     "iopub.execute_input": "2022-10-25T19:27:08.219384Z",
     "iopub.status.busy": "2022-10-25T19:27:08.218184Z",
     "iopub.status.idle": "2022-10-25T19:27:08.225712Z",
     "shell.execute_reply": "2022-10-25T19:27:08.223938Z"
    },
    "papermill": {
     "duration": 0.01845,
     "end_time": "2022-10-25T19:27:08.228595",
     "exception": false,
     "start_time": "2022-10-25T19:27:08.210145",
     "status": "completed"
    },
    "tags": []
   },
   "outputs": [
    {
     "name": "stdout",
     "output_type": "stream",
     "text": [
      "Both the control group and the treatment group require 4720 samples for the test.\n"
     ]
    }
   ],
   "source": [
    "# Report the amount of samples required\n",
    "print(f'Both the control group and the treatment group require {sample_size} samples for the test.')"
   ]
  },
  {
   "cell_type": "markdown",
   "id": "34062a2e",
   "metadata": {
    "papermill": {
     "duration": 0.006553,
     "end_time": "2022-10-25T19:27:08.242658",
     "exception": false,
     "start_time": "2022-10-25T19:27:08.236105",
     "status": "completed"
    },
    "tags": []
   },
   "source": [
    "# Test - Collect the Data"
   ]
  },
  {
   "cell_type": "markdown",
   "id": "1d6a9b67",
   "metadata": {
    "papermill": {
     "duration": 0.00624,
     "end_time": "2022-10-25T19:27:08.255430",
     "exception": false,
     "start_time": "2022-10-25T19:27:08.249190",
     "status": "completed"
    },
    "tags": []
   },
   "source": [
    "## Pre-process data\n",
    "\n",
    "## Check basics\n",
    "- info\n",
    "- shape\n",
    "- columns\n",
    "- data type\n",
    "- statistics\n",
    "\n",
    "## Check for missing values, duplicates etc."
   ]
  },
  {
   "cell_type": "code",
   "execution_count": 4,
   "id": "01c565a3",
   "metadata": {
    "execution": {
     "iopub.execute_input": "2022-10-25T19:27:08.272053Z",
     "iopub.status.busy": "2022-10-25T19:27:08.271628Z",
     "iopub.status.idle": "2022-10-25T19:27:08.874739Z",
     "shell.execute_reply": "2022-10-25T19:27:08.873545Z"
    },
    "papermill": {
     "duration": 0.61436,
     "end_time": "2022-10-25T19:27:08.878027",
     "exception": false,
     "start_time": "2022-10-25T19:27:08.263667",
     "status": "completed"
    },
    "tags": []
   },
   "outputs": [],
   "source": [
    "# Read file\n",
    "import pandas as pd\n",
    "df = pd.read_csv('../input/ab-testing/ab_data.csv')"
   ]
  },
  {
   "cell_type": "code",
   "execution_count": 5,
   "id": "dd5c1481",
   "metadata": {
    "execution": {
     "iopub.execute_input": "2022-10-25T19:27:08.893311Z",
     "iopub.status.busy": "2022-10-25T19:27:08.892917Z",
     "iopub.status.idle": "2022-10-25T19:27:08.962307Z",
     "shell.execute_reply": "2022-10-25T19:27:08.960847Z"
    },
    "papermill": {
     "duration": 0.080711,
     "end_time": "2022-10-25T19:27:08.965487",
     "exception": false,
     "start_time": "2022-10-25T19:27:08.884776",
     "status": "completed"
    },
    "tags": []
   },
   "outputs": [
    {
     "name": "stdout",
     "output_type": "stream",
     "text": [
      "<class 'pandas.core.frame.DataFrame'>\n",
      "RangeIndex: 294478 entries, 0 to 294477\n",
      "Data columns (total 5 columns):\n",
      " #   Column        Non-Null Count   Dtype \n",
      "---  ------        --------------   ----- \n",
      " 0   user_id       294478 non-null  int64 \n",
      " 1   timestamp     294478 non-null  object\n",
      " 2   group         294478 non-null  object\n",
      " 3   landing_page  294478 non-null  object\n",
      " 4   converted     294478 non-null  int64 \n",
      "dtypes: int64(2), object(3)\n",
      "memory usage: 11.2+ MB\n",
      "None\n",
      "(294478, 5)\n",
      "Index(['user_id', 'timestamp', 'group', 'landing_page', 'converted'], dtype='object')\n",
      "user_id          int64\n",
      "timestamp       object\n",
      "group           object\n",
      "landing_page    object\n",
      "converted        int64\n",
      "dtype: object\n"
     ]
    }
   ],
   "source": [
    "# Check basic info on data\n",
    "print(df.info())\n",
    "print(df.shape)\n",
    "print(df.columns)\n",
    "print(df.dtypes)"
   ]
  },
  {
   "cell_type": "code",
   "execution_count": 6,
   "id": "1252e46a",
   "metadata": {
    "execution": {
     "iopub.execute_input": "2022-10-25T19:27:08.980925Z",
     "iopub.status.busy": "2022-10-25T19:27:08.980536Z",
     "iopub.status.idle": "2022-10-25T19:27:09.039217Z",
     "shell.execute_reply": "2022-10-25T19:27:09.037698Z"
    },
    "papermill": {
     "duration": 0.069655,
     "end_time": "2022-10-25T19:27:09.042055",
     "exception": false,
     "start_time": "2022-10-25T19:27:08.972400",
     "status": "completed"
    },
    "tags": []
   },
   "outputs": [
    {
     "name": "stdout",
     "output_type": "stream",
     "text": [
      "Unique values for group: ['control' 'treatment']\n",
      "Unique values for landing_page: ['old_page' 'new_page']\n",
      "Unique values for converted: [0 1]\n"
     ]
    }
   ],
   "source": [
    "print(f\"Unique values for group: {df['group'].unique()}\")\n",
    "print(f\"Unique values for landing_page: {df['landing_page'].unique()}\")\n",
    "print(f\"Unique values for converted: {df['converted'].unique()}\")"
   ]
  },
  {
   "cell_type": "code",
   "execution_count": 7,
   "id": "b42f0550",
   "metadata": {
    "execution": {
     "iopub.execute_input": "2022-10-25T19:27:09.057650Z",
     "iopub.status.busy": "2022-10-25T19:27:09.057228Z",
     "iopub.status.idle": "2022-10-25T19:27:09.494524Z",
     "shell.execute_reply": "2022-10-25T19:27:09.493349Z"
    },
    "papermill": {
     "duration": 0.448313,
     "end_time": "2022-10-25T19:27:09.497368",
     "exception": false,
     "start_time": "2022-10-25T19:27:09.049055",
     "status": "completed"
    },
    "tags": []
   },
   "outputs": [],
   "source": [
    "# We discovered that the timestamp is stored as an object instead of date, let's fix that\n",
    "df = pd.read_csv('../input/ab-testing/ab_data.csv',parse_dates=[('timestamp')])"
   ]
  },
  {
   "cell_type": "code",
   "execution_count": 8,
   "id": "afaab377",
   "metadata": {
    "execution": {
     "iopub.execute_input": "2022-10-25T19:27:09.513086Z",
     "iopub.status.busy": "2022-10-25T19:27:09.512713Z",
     "iopub.status.idle": "2022-10-25T19:27:09.545122Z",
     "shell.execute_reply": "2022-10-25T19:27:09.543781Z"
    },
    "papermill": {
     "duration": 0.044034,
     "end_time": "2022-10-25T19:27:09.548379",
     "exception": false,
     "start_time": "2022-10-25T19:27:09.504345",
     "status": "completed"
    },
    "tags": []
   },
   "outputs": [
    {
     "name": "stdout",
     "output_type": "stream",
     "text": [
      "Are there any missing values: False\n"
     ]
    }
   ],
   "source": [
    "# Missing values\n",
    "print(f'Are there any missing values: {df.isnull().values.any()}')"
   ]
  },
  {
   "cell_type": "code",
   "execution_count": 9,
   "id": "436747b2",
   "metadata": {
    "execution": {
     "iopub.execute_input": "2022-10-25T19:27:09.564562Z",
     "iopub.status.busy": "2022-10-25T19:27:09.564124Z",
     "iopub.status.idle": "2022-10-25T19:27:09.668627Z",
     "shell.execute_reply": "2022-10-25T19:27:09.667398Z"
    },
    "papermill": {
     "duration": 0.11571,
     "end_time": "2022-10-25T19:27:09.671632",
     "exception": false,
     "start_time": "2022-10-25T19:27:09.555922",
     "status": "completed"
    },
    "tags": []
   },
   "outputs": [
    {
     "name": "stdout",
     "output_type": "stream",
     "text": [
      "landing_page  new_page  old_page\n",
      "group                           \n",
      "control           1928    145274\n",
      "treatment       145311      1965\n"
     ]
    }
   ],
   "source": [
    "# Check that everyone from control group went to old_page and everyone from treatment group went to new_page\n",
    "print(pd.crosstab(df['group'], df['landing_page']))"
   ]
  },
  {
   "cell_type": "markdown",
   "id": "0af5fa55",
   "metadata": {
    "papermill": {
     "duration": 0.006566,
     "end_time": "2022-10-25T19:27:09.685199",
     "exception": false,
     "start_time": "2022-10-25T19:27:09.678633",
     "status": "completed"
    },
    "tags": []
   },
   "source": [
    "### We can see that almost 2k people from each group went to the wrong page"
   ]
  },
  {
   "cell_type": "code",
   "execution_count": 10,
   "id": "cdc54108",
   "metadata": {
    "execution": {
     "iopub.execute_input": "2022-10-25T19:27:09.701139Z",
     "iopub.status.busy": "2022-10-25T19:27:09.700751Z",
     "iopub.status.idle": "2022-10-25T19:27:09.736786Z",
     "shell.execute_reply": "2022-10-25T19:27:09.735230Z"
    },
    "papermill": {
     "duration": 0.047815,
     "end_time": "2022-10-25T19:27:09.739905",
     "exception": false,
     "start_time": "2022-10-25T19:27:09.692090",
     "status": "completed"
    },
    "tags": []
   },
   "outputs": [
    {
     "name": "stdout",
     "output_type": "stream",
     "text": [
      "805339    2\n",
      "754884    2\n",
      "722274    2\n",
      "783176    2\n",
      "898232    2\n",
      "         ..\n",
      "642985    1\n",
      "771499    1\n",
      "923606    1\n",
      "712675    1\n",
      "715931    1\n",
      "Name: user_id, Length: 290584, dtype: int64\n"
     ]
    }
   ],
   "source": [
    "# Duplicate values\n",
    "print(df['user_id'].value_counts())"
   ]
  },
  {
   "cell_type": "markdown",
   "id": "dac063bf",
   "metadata": {
    "papermill": {
     "duration": 0.006613,
     "end_time": "2022-10-25T19:27:09.753782",
     "exception": false,
     "start_time": "2022-10-25T19:27:09.747169",
     "status": "completed"
    },
    "tags": []
   },
   "source": [
    "### We can see that some users appeared twice\n",
    "\n",
    "    Total # of records: 294,478 - # of unique users: 290,584 = # of users who appeared twice: 3,894\n",
    "        If we drop these users, we will be dropping 3894 * 2 = 7788 records\n",
    "        This is a very small amount compared to the records we have in the dataset, we can drop these records"
   ]
  },
  {
   "cell_type": "code",
   "execution_count": 11,
   "id": "29cc79b3",
   "metadata": {
    "execution": {
     "iopub.execute_input": "2022-10-25T19:27:09.770240Z",
     "iopub.status.busy": "2022-10-25T19:27:09.768898Z",
     "iopub.status.idle": "2022-10-25T19:27:09.860904Z",
     "shell.execute_reply": "2022-10-25T19:27:09.859251Z"
    },
    "papermill": {
     "duration": 0.103424,
     "end_time": "2022-10-25T19:27:09.864070",
     "exception": false,
     "start_time": "2022-10-25T19:27:09.760646",
     "status": "completed"
    },
    "tags": []
   },
   "outputs": [
    {
     "name": "stdout",
     "output_type": "stream",
     "text": [
      "<class 'pandas.core.frame.DataFrame'>\n",
      "Int64Index: 286690 entries, 0 to 294477\n",
      "Data columns (total 5 columns):\n",
      " #   Column        Non-Null Count   Dtype         \n",
      "---  ------        --------------   -----         \n",
      " 0   user_id       286690 non-null  int64         \n",
      " 1   timestamp     286690 non-null  datetime64[ns]\n",
      " 2   group         286690 non-null  object        \n",
      " 3   landing_page  286690 non-null  object        \n",
      " 4   converted     286690 non-null  int64         \n",
      "dtypes: datetime64[ns](1), int64(2), object(2)\n",
      "memory usage: 13.1+ MB\n",
      "None\n"
     ]
    }
   ],
   "source": [
    "counts = df['user_id'].value_counts()\n",
    "user_drop_list = counts[counts > 1].index # Make a list for the users we want to drop\n",
    "df = df[~df['user_id'].isin(user_drop_list)]\n",
    "print(df.info())"
   ]
  },
  {
   "cell_type": "markdown",
   "id": "9497803f",
   "metadata": {
    "papermill": {
     "duration": 0.006749,
     "end_time": "2022-10-25T19:27:09.878958",
     "exception": false,
     "start_time": "2022-10-25T19:27:09.872209",
     "status": "completed"
    },
    "tags": []
   },
   "source": [
    "### We see that the number of entries have reduced from 294,478 to 286,690"
   ]
  },
  {
   "cell_type": "markdown",
   "id": "bbead1e7",
   "metadata": {
    "papermill": {
     "duration": 0.00971,
     "end_time": "2022-10-25T19:27:09.895805",
     "exception": false,
     "start_time": "2022-10-25T19:27:09.886095",
     "status": "completed"
    },
    "tags": []
   },
   "source": [
    "## Data Sampling"
   ]
  },
  {
   "cell_type": "code",
   "execution_count": 12,
   "id": "d8d90479",
   "metadata": {
    "execution": {
     "iopub.execute_input": "2022-10-25T19:27:09.912792Z",
     "iopub.status.busy": "2022-10-25T19:27:09.911557Z",
     "iopub.status.idle": "2022-10-25T19:27:10.003495Z",
     "shell.execute_reply": "2022-10-25T19:27:10.002149Z"
    },
    "papermill": {
     "duration": 0.104213,
     "end_time": "2022-10-25T19:27:10.007263",
     "exception": false,
     "start_time": "2022-10-25T19:27:09.903050",
     "status": "completed"
    },
    "tags": []
   },
   "outputs": [
    {
     "name": "stdout",
     "output_type": "stream",
     "text": [
      "        user_id                  timestamp    group landing_page  converted\n",
      "53675    834087 2017-01-18 10:09:17.394053  control     old_page          0\n",
      "291060   718217 2017-01-20 22:04:31.689015  control     old_page          0\n",
      "284377   639050 2017-01-12 13:36:55.215330  control     old_page          0\n",
      "56998    640643 2017-01-03 06:38:40.454354  control     old_page          0\n",
      "6469     818517 2017-01-05 16:51:36.579900  control     old_page          0\n",
      "...         ...                        ...      ...          ...        ...\n",
      "85200    920467 2017-01-21 23:27:26.237761  control     old_page          1\n",
      "84140    890916 2017-01-09 07:15:17.296358  control     old_page          0\n",
      "62188    634782 2017-01-22 22:54:42.661549  control     old_page          0\n",
      "206933   750858 2017-01-19 00:17:16.931108  control     old_page          0\n",
      "176872   631389 2017-01-14 02:51:11.103769  control     old_page          0\n",
      "\n",
      "[4720 rows x 5 columns]\n",
      "        user_id                  timestamp      group landing_page  converted\n",
      "129875   856647 2017-01-21 04:59:43.446437  treatment     new_page          0\n",
      "166921   787453 2017-01-18 13:14:06.719009  treatment     new_page          0\n",
      "148884   697437 2017-01-19 21:54:51.089018  treatment     new_page          0\n",
      "243539   883461 2017-01-05 22:27:34.673163  treatment     new_page          0\n",
      "212130   647193 2017-01-22 19:37:40.341640  treatment     new_page          0\n",
      "...         ...                        ...        ...          ...        ...\n",
      "114639   889139 2017-01-10 15:14:01.142235  treatment     new_page          0\n",
      "24827    876996 2017-01-09 03:06:31.312259  treatment     new_page          0\n",
      "190670   646019 2017-01-16 09:18:23.629091  treatment     new_page          0\n",
      "186977   851704 2017-01-13 21:10:14.611902  treatment     new_page          0\n",
      "187115   867815 2017-01-19 11:48:25.530352  treatment     new_page          0\n",
      "\n",
      "[4720 rows x 5 columns]\n"
     ]
    }
   ],
   "source": [
    "# Randomly collect samples from control group and treatment group\n",
    "df_control = df[df['group'] == 'control'].sample(n=sample_size, random_state = 23)\n",
    "df_treatment = df[df['group'] == 'treatment'].sample(n=sample_size, random_state = 23)\n",
    "print(df_control)\n",
    "print(df_treatment)"
   ]
  },
  {
   "cell_type": "code",
   "execution_count": 13,
   "id": "193b3998",
   "metadata": {
    "execution": {
     "iopub.execute_input": "2022-10-25T19:27:10.024706Z",
     "iopub.status.busy": "2022-10-25T19:27:10.024242Z",
     "iopub.status.idle": "2022-10-25T19:27:10.039495Z",
     "shell.execute_reply": "2022-10-25T19:27:10.038109Z"
    },
    "papermill": {
     "duration": 0.02774,
     "end_time": "2022-10-25T19:27:10.042957",
     "exception": false,
     "start_time": "2022-10-25T19:27:10.015217",
     "status": "completed"
    },
    "tags": []
   },
   "outputs": [
    {
     "name": "stdout",
     "output_type": "stream",
     "text": [
      "      user_id                  timestamp      group landing_page  converted\n",
      "0      834087 2017-01-18 10:09:17.394053    control     old_page          0\n",
      "1      718217 2017-01-20 22:04:31.689015    control     old_page          0\n",
      "2      639050 2017-01-12 13:36:55.215330    control     old_page          0\n",
      "3      640643 2017-01-03 06:38:40.454354    control     old_page          0\n",
      "4      818517 2017-01-05 16:51:36.579900    control     old_page          0\n",
      "...       ...                        ...        ...          ...        ...\n",
      "9435   889139 2017-01-10 15:14:01.142235  treatment     new_page          0\n",
      "9436   876996 2017-01-09 03:06:31.312259  treatment     new_page          0\n",
      "9437   646019 2017-01-16 09:18:23.629091  treatment     new_page          0\n",
      "9438   851704 2017-01-13 21:10:14.611902  treatment     new_page          0\n",
      "9439   867815 2017-01-19 11:48:25.530352  treatment     new_page          0\n",
      "\n",
      "[9440 rows x 5 columns]\n"
     ]
    }
   ],
   "source": [
    "# Concat the two groups to form a sample for testing\n",
    "df_sample = pd.concat([df_control, df_treatment])\n",
    "    #Replace index to make it look more clean\n",
    "df_sample.reset_index(drop=True, inplace=True)\n",
    "print(df_sample)"
   ]
  },
  {
   "cell_type": "markdown",
   "id": "b9b919cf",
   "metadata": {
    "papermill": {
     "duration": 0.006957,
     "end_time": "2022-10-25T19:27:10.057231",
     "exception": false,
     "start_time": "2022-10-25T19:27:10.050274",
     "status": "completed"
    },
    "tags": []
   },
   "source": [
    "### Now the data is ready for post-test analysis"
   ]
  },
  {
   "cell_type": "markdown",
   "id": "482263ec",
   "metadata": {
    "papermill": {
     "duration": 0.006968,
     "end_time": "2022-10-25T19:27:10.071570",
     "exception": false,
     "start_time": "2022-10-25T19:27:10.064602",
     "status": "completed"
    },
    "tags": []
   },
   "source": [
    "# Post-Test"
   ]
  },
  {
   "cell_type": "markdown",
   "id": "543e3afe",
   "metadata": {
    "papermill": {
     "duration": 0.007035,
     "end_time": "2022-10-25T19:27:10.085902",
     "exception": false,
     "start_time": "2022-10-25T19:27:10.078867",
     "status": "completed"
    },
    "tags": []
   },
   "source": [
    "## Referring to the requirements, we are hoping to see the conversion rate increase from 13% to 15%"
   ]
  },
  {
   "cell_type": "code",
   "execution_count": 14,
   "id": "24d0c1e5",
   "metadata": {
    "execution": {
     "iopub.execute_input": "2022-10-25T19:27:10.102505Z",
     "iopub.status.busy": "2022-10-25T19:27:10.102092Z",
     "iopub.status.idle": "2022-10-25T19:27:10.120945Z",
     "shell.execute_reply": "2022-10-25T19:27:10.119555Z"
    },
    "papermill": {
     "duration": 0.031152,
     "end_time": "2022-10-25T19:27:10.124257",
     "exception": false,
     "start_time": "2022-10-25T19:27:10.093105",
     "status": "completed"
    },
    "tags": []
   },
   "outputs": [
    {
     "name": "stdout",
     "output_type": "stream",
     "text": [
      "           conv_rate       std       str\n",
      "group                                   \n",
      "control     0.121186  0.326378  0.004751\n",
      "treatment   0.127754  0.333851  0.004859\n"
     ]
    }
   ],
   "source": [
    "# Compare conversion rate between control group and treatment group\n",
    "import numpy as np\n",
    "c_ = df_sample.groupby('group')['converted']\n",
    "\n",
    "# It is also useful to show STD and STR on the side\n",
    "import scipy.stats as stats\n",
    "stderr = lambda x: stats.sem(x)\n",
    "    # Find the standard error to check the std between the sample and the population\n",
    "test_summary = c_.agg([np.mean, np.std, stderr])\n",
    "test_summary.columns = ['conv_rate', 'std', 'str']\n",
    "print(test_summary)"
   ]
  },
  {
   "cell_type": "code",
   "execution_count": 15,
   "id": "bbdcd4f4",
   "metadata": {
    "execution": {
     "iopub.execute_input": "2022-10-25T19:27:10.141356Z",
     "iopub.status.busy": "2022-10-25T19:27:10.140988Z",
     "iopub.status.idle": "2022-10-25T19:27:10.721034Z",
     "shell.execute_reply": "2022-10-25T19:27:10.719589Z"
    },
    "papermill": {
     "duration": 0.591871,
     "end_time": "2022-10-25T19:27:10.724061",
     "exception": false,
     "start_time": "2022-10-25T19:27:10.132190",
     "status": "completed"
    },
    "tags": []
   },
   "outputs": [
    {
     "data": {
      "text/plain": [
       "<AxesSubplot:xlabel='group', ylabel='converted'>"
      ]
     },
     "execution_count": 15,
     "metadata": {},
     "output_type": "execute_result"
    },
    {
     "data": {
      "image/png": "[encoded data removed]",
      "text/plain": [
       "<Figure size 432x288 with 1 Axes>"
      ]
     },
     "metadata": {
      "needs_background": "light"
     },
     "output_type": "display_data"
    }
   ],
   "source": [
    "# Let's visualize the data\n",
    "import seaborn as sns\n",
    "sns.barplot(x = df_sample['group'], y = df_sample['converted'])"
   ]
  },
  {
   "cell_type": "markdown",
   "id": "57951c86",
   "metadata": {
    "papermill": {
     "duration": 0.007716,
     "end_time": "2022-10-25T19:27:10.739894",
     "exception": false,
     "start_time": "2022-10-25T19:27:10.732178",
     "status": "completed"
    },
    "tags": []
   },
   "source": [
    "### As we can see, the conversion rate did not match our expectations\n",
    "\n",
    "    We are not done however\n",
    "    To determine whether or not to reject the null hypothesis, we need to look at the p-value"
   ]
  },
  {
   "cell_type": "code",
   "execution_count": 16,
   "id": "82a3b935",
   "metadata": {
    "execution": {
     "iopub.execute_input": "2022-10-25T19:27:10.758033Z",
     "iopub.status.busy": "2022-10-25T19:27:10.757259Z",
     "iopub.status.idle": "2022-10-25T19:27:10.772483Z",
     "shell.execute_reply": "2022-10-25T19:27:10.771229Z"
    },
    "papermill": {
     "duration": 0.027797,
     "end_time": "2022-10-25T19:27:10.776001",
     "exception": false,
     "start_time": "2022-10-25T19:27:10.748204",
     "status": "completed"
    },
    "tags": []
   },
   "outputs": [
    {
     "name": "stdout",
     "output_type": "stream",
     "text": [
      "0.33378795812517914\n",
      "for the control group:   [0.112, 0.130]\n",
      "for the treatment group: [0.118, 0.137]\n"
     ]
    }
   ],
   "source": [
    "# We can run a z-test because we have a large sampling pool\n",
    "from statsmodels.stats.proportion import proportions_ztest, proportion_confint\n",
    "result_control = df_sample[df_sample['group']=='control']['converted']\n",
    "result_treatment = df_sample[df_sample['group']=='treatment']['converted']\n",
    "\n",
    "n_control = result_control.count()\n",
    "n_treatment = result_treatment.count()\n",
    "\n",
    "z_stat, p_value = proportions_ztest([result_control.sum(), result_treatment.sum()], [n_control, n_treatment])\n",
    "# We can also look at the confidence interval\n",
    "(l_c, l_t), (u_c, u_t) = proportion_confint([result_control.sum(), result_treatment.sum()], [n_control, n_treatment], alpha = 0.05)\n",
    "\n",
    "print(p_value)\n",
    "print(f'for the control group:   [{l_c:.3f}, {u_c:.3f}]')\n",
    "print(f'for the treatment group: [{l_t:.3f}, {u_t:.3f}]')"
   ]
  },
  {
   "cell_type": "markdown",
   "id": "19641d6d",
   "metadata": {
    "papermill": {
     "duration": 0.007442,
     "end_time": "2022-10-25T19:27:10.791164",
     "exception": false,
     "start_time": "2022-10-25T19:27:10.783722",
     "status": "completed"
    },
    "tags": []
   },
   "source": [
    "# Conclusion\n",
    "We fail to reject the null hypothesis because the resulting p-value is much much higher than 0.05\n",
    "\n",
    "Based on the the confidence interval, we observe a slight increase for the conversion rate of the treatment group. At the same time, the increase is not significant enough\n",
    "    \n",
    "Therefore, we have not achieved the expected result"
   ]
  }
 ],
 "metadata": {
  "kernelspec": {
   "display_name": "Python 3",
   "language": "python",
   "name": "python3"
  },
  "language_info": {
   "codemirror_mode": {
    "name": "ipython",
    "version": 3
   },
   "file_extension": ".py",
   "mimetype": "text/x-python",
   "name": "python",
   "nbconvert_exporter": "python",
   "pygments_lexer": "ipython3",
   "version": "3.7.12"
  },
  "papermill": {
   "default_parameters": {},
   "duration": 14.550235,
   "end_time": "2022-10-25T19:27:11.622020",
   "environment_variables": {},
   "exception": null,
   "input_path": "__notebook__.ipynb",
   "output_path": "__notebook__.ipynb",
   "parameters": {},
   "start_time": "2022-10-25T19:26:57.071785",
   "version": "2.3.4"
  }
 },
 "nbformat": 4,
 "nbformat_minor": 5
}
